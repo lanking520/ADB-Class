{
 "cells": [
  {
   "cell_type": "code",
   "execution_count": 15,
   "metadata": {
    "collapsed": true
   },
   "outputs": [],
   "source": [
    "import pandas as pd\n",
    "import matplotlib.pyplot as plt"
   ]
  },
  {
   "cell_type": "code",
   "execution_count": 9,
   "metadata": {
    "collapsed": true
   },
   "outputs": [],
   "source": [
    "my_file = pd.read_csv(\"dataset/Boro_Restaurant_Grades.csv\", encoding = 'utf8')"
   ]
  },
  {
   "cell_type": "code",
   "execution_count": 10,
   "metadata": {},
   "outputs": [],
   "source": [
    "c_d = my_file['CUISINE DESCRIPTION'].unique()"
   ]
  },
  {
   "cell_type": "code",
   "execution_count": 22,
   "metadata": {},
   "outputs": [],
   "source": [
    "my_dict = {}\n",
    "for item in c_d:\n",
    "    val = my_file[my_file['CUISINE DESCRIPTION'] == item].shape[0]\n",
    "    my_dict[item] = val"
   ]
  },
  {
   "cell_type": "code",
   "execution_count": 23,
   "metadata": {},
   "outputs": [
    {
     "data": {
      "text/plain": [
       "{u'Afghan': 207,\n",
       " u'African': 1462,\n",
       " u'American': 89654,\n",
       " u'Armenian': 486,\n",
       " u'Asian': 6217,\n",
       " u'Australian': 263,\n",
       " u'Bagels/Pretzels': 2859,\n",
       " u'Bakery': 11922,\n",
       " u'Bangladeshi': 924,\n",
       " u'Barbecue': 849,\n",
       " u'Basque': 29,\n",
       " u'Bottled beverages, including water, sodas, juices, etc.': 1202,\n",
       " u'Brazilian': 438,\n",
       " u'Caf\\xc3\\xa9/Coffee/Tea': 15978,\n",
       " u'Cajun': 139,\n",
       " u'Californian': 32,\n",
       " u'Caribbean': 12892,\n",
       " u'Chicken': 6305,\n",
       " u'Chilean': 53,\n",
       " u'Chinese': 42201,\n",
       " u'Chinese/Cuban': 355,\n",
       " u'Chinese/Japanese': 998,\n",
       " u'Continental': 848,\n",
       " u'Creole': 637,\n",
       " u'Creole/Cajun': 87,\n",
       " u'Czech': 33,\n",
       " u'Delicatessen': 6048,\n",
       " u'Donuts': 5670,\n",
       " u'Eastern European': 1308,\n",
       " u'Egyptian': 138,\n",
       " u'English': 249,\n",
       " u'Ethiopian': 287,\n",
       " u'Filipino': 651,\n",
       " u'French': 5261,\n",
       " u'Fruits/Vegetables': 93,\n",
       " u'German': 589,\n",
       " u'Greek': 2222,\n",
       " u'Hamburgers': 5352,\n",
       " u'Hawaiian': 169,\n",
       " u'Hotdogs': 303,\n",
       " u'Hotdogs/Pretzels': 139,\n",
       " u'Ice Cream, Gelato, Yogurt, Ices': 3026,\n",
       " u'Indian': 6211,\n",
       " u'Indonesian': 99,\n",
       " u'Iranian': 45,\n",
       " u'Irish': 3235,\n",
       " u'Italian': 17632,\n",
       " u'Japanese': 14248,\n",
       " u'Jewish/Kosher': 5736,\n",
       " u'Juice, Smoothies, Fruit Salads': 3223,\n",
       " u'Korean': 5025,\n",
       " u'Latin (Cuban, Dominican, Puerto Rican, South & Central American)': 18767,\n",
       " u'Mediterranean': 3590,\n",
       " u'Mexican': 15260,\n",
       " u'Middle Eastern': 2532,\n",
       " u'Moroccan': 225,\n",
       " u'Not Listed/Not Applicable': 66,\n",
       " u'Nuts/Confectionary': 42,\n",
       " u'Other': 2303,\n",
       " u'Pakistani': 664,\n",
       " u'Pancakes/Waffles': 252,\n",
       " u'Peruvian': 1609,\n",
       " u'Pizza': 18408,\n",
       " u'Pizza/Italian': 8740,\n",
       " u'Polish': 553,\n",
       " u'Polynesian': 48,\n",
       " u'Portuguese': 183,\n",
       " u'Russian': 1434,\n",
       " u'Salads': 795,\n",
       " u'Sandwiches': 4591,\n",
       " u'Sandwiches/Salads/Mixed Buffet': 2942,\n",
       " u'Scandinavian': 68,\n",
       " u'Seafood': 2684,\n",
       " u'Soul Food': 1197,\n",
       " u'Soups': 31,\n",
       " u'Soups & Sandwiches': 517,\n",
       " u'Southwestern': 139,\n",
       " u'Spanish': 11764,\n",
       " u'Steak': 1297,\n",
       " u'Tapas': 570,\n",
       " u'Tex-Mex': 2404,\n",
       " u'Thai': 5441,\n",
       " u'Turkish': 1240,\n",
       " u'Vegetarian': 1588,\n",
       " u'Vietnamese/Cambodian/Malaysia': 1621}"
      ]
     },
     "execution_count": 23,
     "metadata": {},
     "output_type": "execute_result"
    }
   ],
   "source": [
    "my_dict"
   ]
  },
  {
   "cell_type": "code",
   "execution_count": null,
   "metadata": {
    "collapsed": true
   },
   "outputs": [],
   "source": []
  }
 ],
 "metadata": {
  "kernelspec": {
   "display_name": "Python 2",
   "language": "python",
   "name": "python2"
  },
  "language_info": {
   "codemirror_mode": {
    "name": "ipython",
    "version": 2
   },
   "file_extension": ".py",
   "mimetype": "text/x-python",
   "name": "python",
   "nbconvert_exporter": "python",
   "pygments_lexer": "ipython2",
   "version": "2.7.13"
  }
 },
 "nbformat": 4,
 "nbformat_minor": 2
}
