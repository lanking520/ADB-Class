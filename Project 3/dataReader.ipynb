{
 "cells": [
  {
   "cell_type": "code",
   "execution_count": 225,
   "metadata": {},
   "outputs": [],
   "source": [
    "import pandas as pd\n",
    "import matplotlib.pyplot as plt\n",
    "import csv\n",
    "\n",
    "def change_date_to_season(date, suffix):\n",
    "    i = date.find('/')\n",
    "    if 6 > int(date[0:i]) > 2:\n",
    "        return 'Spring' + suffix\n",
    "    elif 9 > int(date[0:i]) >= 6:\n",
    "        return 'Summer' + suffix\n",
    "    elif 12 > int(date[0:i]) >= 9:\n",
    "        return 'Fall' + suffix\n",
    "    else:\n",
    "        return 'Winter' + suffix\n",
    "\n",
    "\n",
    "\n",
    "# def change_date_to_season(date):\n",
    "#     i = date.find('/')\n",
    "#     if 6 > int(date[0:i]) > 2:\n",
    "#         return 'Spring'\n",
    "#     elif 9 > int(date[0:i]) >= 6:\n",
    "#         return 'Summer'\n",
    "#     elif 12 > int(date[0:i]) >= 9:\n",
    "#         return 'Fall'\n",
    "#     else:\n",
    "#         return 'Winter'"
   ]
  },
  {
   "cell_type": "code",
   "execution_count": 227,
   "metadata": {},
   "outputs": [],
   "source": [
    "courseType = dict()\n",
    "courseType['Asian'] = {\n",
    "    'Afghan', 'Asian', 'Bangladeshi', 'Chinese', 'Chinese/Cuban', 'Chinese/Japanese',\n",
    "    'Filipino', 'Indian', 'Indonesian', 'Iranian', 'Japanese', 'Jewish/Kosher', 'Korean',\n",
    "    'Middle Eastern', 'Pakistani', 'Thai', 'Turkish', 'Vietnamese/Cambodian/Malaysia'\n",
    "}\n",
    "\n",
    "courseType['European'] = {\n",
    "    'Australian', 'Bagels/Pretzeis', 'Czech', 'Eastern European', 'English', 'French',\n",
    "    'German', 'Greek', 'Irish', 'Italian', 'Mediterranean', 'Pizza', 'Pizza/Italian', 'Polish',\n",
    "    'Portuguese', 'Russian', 'Scandinavian', 'Spanish', 'Tapas', 'Bagels/Pretzels'\n",
    "}\n",
    "\n",
    "courseType['NorthAmerican'] = {\n",
    "    'American', 'Barbecue', 'Cajun', 'Californian', 'Caribbean', 'Chicken', 'Creole', 'Creole/Cajun',\n",
    "    'Hamburgers', 'Hawaiian', 'Hotdogs', 'Hotdogs/Pretzels', 'Mexican', 'Polynesian', 'Sandwiches',\n",
    "    'Sandwiches/Salads/Mixed Buffet', 'Southwestern', 'Steak', 'Tex-Mex',\n",
    "    'Latin (Cuban, Dominican, Puerto Rican, South & Central American)', 'American '\n",
    "}\n",
    "\n",
    "courseType['SouthAmerican'] = {\n",
    "    'Brazilian', 'Chilean', 'Latin', 'Peruvian'\n",
    "}\n",
    "\n",
    "courseType['African'] = {\n",
    "    'African', 'Armenian', 'Egyptian', 'Ethiopian', 'Moroccan'\n",
    "}\n",
    "\n",
    "\n",
    "courseType['Other'] = {\n",
    "    'Bakery', 'Bottled beverages', 'Cafe/Coffee/Tea', 'Continental', 'Delicatessen', 'Donuts',\n",
    "    'Fruit/Vegetables', 'Ice cream', 'Juice', 'Nuts/Confectionary', 'Pancakes/Waffles', 'Salads',\n",
    "    'Seafood', 'Soul Food', 'Soups', 'Soups/Sandwiches', 'Vegetarian', 'Ice Cream, Gelato, Yogurt, Ices',\n",
    "    'Caf_/Coffee/Tea', 'Caf/Coffee/Tea', 'Not Listed/Not Applicable', 'Other',\n",
    "    'Bottled beverages, including water, sodas, juices, etc.', 'Juice, Smoothies, Fruit Salads',\n",
    "    'Soups & Sandwiches', 'Fruits/Vegetables', 'Café/Coffee/Tea', 'CafÃ©/Coffee/Tea'\n",
    "}"
   ]
  },
  {
   "cell_type": "code",
   "execution_count": 228,
   "metadata": {},
   "outputs": [],
   "source": [
    "def parse(data_path):\n",
    "    data_set = []\n",
    "    with open(data_path, 'rbU') as csvfile:\n",
    "            reader = csv.reader(csvfile, delimiter=',')\n",
    "            global fields\n",
    "            fields = next(reader)\n",
    "            i = 0\n",
    "            #left only DBA, BORO, CUSINE DESCRIPTION, INSPECTION DATE, ACTION, VIOLATION CODE, VIOLATION DESCRIPTION, CRITICAL FLAG, SCORE, GRADE, GRADE DATE, RECORD DATE, INSPECTION TYPE\n",
    "            for row in reader:\n",
    "                if i%10000==0: print i\n",
    "                i = i+1\n",
    "                # remove the rows that doesn't really provide information               \n",
    "                del row[0]\n",
    "                del row[2:6]\n",
    "                del row[4]\n",
    "                del row[-1]\n",
    "                del row[10]\n",
    "                # removed rows with missing data.\n",
    "                if '' not in row:\n",
    "\n",
    "                    row[3] = change_date_to_season(row[3], \"-INSPECTION DATE\")\n",
    "                    # print row[8]\n",
    "                    row[9] = change_date_to_season(row[9], \"-GRADE DATE\")\n",
    "\n",
    "\n",
    "                    # everyone has the same season, FALL RECORD\n",
    "                    # row[10] = change_date_to_season(row[10], \"-RECORD DATE\")\n",
    "\n",
    "                    # origianl\n",
    "                    \n",
    "                    # row[11] = change_date_to_season(row[11], \"-RECORD DATE\")\n",
    "                    for Type in courseType:\n",
    "                        if  row[2] in courseType[Type]:\n",
    "                             row[2] = Type\n",
    "                             break \n",
    "                    del row[4]\n",
    "                    data_set.append(row)\n",
    "\n",
    "    return data_set"
   ]
  },
  {
   "cell_type": "code",
   "execution_count": 229,
   "metadata": {},
   "outputs": [
    {
     "name": "stdout",
     "output_type": "stream",
     "text": [
      "0\n",
      "10000\n",
      "20000\n",
      "30000\n",
      "40000\n",
      "50000\n",
      "60000\n",
      "70000\n",
      "80000\n",
      "90000\n",
      "100000\n",
      "110000\n",
      "120000\n",
      "130000\n",
      "140000\n",
      "150000\n",
      "160000\n",
      "170000\n",
      "180000\n",
      "190000\n",
      "200000\n",
      "210000\n",
      "220000\n",
      "230000\n",
      "240000\n",
      "250000\n",
      "260000\n",
      "270000\n",
      "280000\n",
      "290000\n",
      "300000\n",
      "310000\n",
      "320000\n",
      "330000\n",
      "340000\n",
      "350000\n",
      "360000\n",
      "370000\n",
      "380000\n",
      "390000\n"
     ]
    }
   ],
   "source": [
    "dataset = parse(\"dataset/Boro_Restaurant_Grades.csv\")"
   ]
  },
  {
   "cell_type": "code",
   "execution_count": 230,
   "metadata": {},
   "outputs": [
    {
     "name": "stdout",
     "output_type": "stream",
     "text": [
      "193717\n"
     ]
    }
   ],
   "source": [
    "print(len(dataset))"
   ]
  },
  {
   "cell_type": "code",
   "execution_count": 231,
   "metadata": {},
   "outputs": [],
   "source": [
    "with open(\"./INTEGRATED-DATASET.csv\", 'wb') as f:\n",
    "    writer = csv.writer(f)\n",
    "    writer.writerows(dataset)"
   ]
  },
  {
   "cell_type": "code",
   "execution_count": null,
   "metadata": {},
   "outputs": [],
   "source": []
  }
 ],
 "metadata": {
  "kernelspec": {
   "display_name": "Python 2",
   "language": "python",
   "name": "python2"
  },
  "language_info": {
   "codemirror_mode": {
    "name": "ipython",
    "version": 2
   },
   "file_extension": ".py",
   "mimetype": "text/x-python",
   "name": "python",
   "nbconvert_exporter": "python",
   "pygments_lexer": "ipython2",
   "version": "2.7.14"
  }
 },
 "nbformat": 4,
 "nbformat_minor": 2
}
