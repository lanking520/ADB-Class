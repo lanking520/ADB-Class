{
 "cells": [
  {
   "cell_type": "code",
   "execution_count": 87,
   "metadata": {},
   "outputs": [],
   "source": [
    "import csv\n",
    "import sys\n",
    "import pandas as pd\n",
    "import numpy as np\n",
    "dataPath = \"./INTEGRATED-DATASET.csv\"\n",
    "\n",
    "\n",
    "\n",
    "dataSet = pd.read_csv(dataPath)\n",
    "dataSet.columns = [\"Name\", \"Borough\", \"Type\", \"InspectionSeason\", \"Reason\", \"Critical\", \"Score\", \"Grade\", \"GradeSeason\"]\n",
    "dataSet\n",
    "min_supp = 0.1*len(dataSet)\n",
    "min_conf = 0.1*len(dataSet)\n",
    "\n"
   ]
  },
  {
   "cell_type": "code",
   "execution_count": 98,
   "metadata": {},
   "outputs": [],
   "source": [
    "def get_L1(dataSet, one_item):\n",
    "    for item in one_item:\n",
    "        cntType = dataSet.groupby(item).count()\n",
    "        one_item[item] = [x for x in one_item[item] if cntType.at[x, 'Name'] >= min_supp]"
   ]
  },
  {
   "cell_type": "code",
   "execution_count": 100,
   "metadata": {},
   "outputs": [
    {
     "name": "stdout",
     "output_type": "stream",
     "text": [
      "{'Grade': ['A', 'B'], 'Borough': ['MANHATTAN', 'BROOKLYN', 'QUEENS'], 'Type': ['NorthAmerican', 'European', 'Asian', 'Other'], 'GradeSeason': ['Winter-GRADE DATE', 'Summer-GRADE DATE', 'Spring-GRADE DATE']}\n"
     ]
    }
   ],
   "source": [
    "boroughs = dataSet[\"Borough\"].unique()\n",
    "grades = dataSet[\"Grade\"].unique()\n",
    "types = dataSet[\"Type\"].unique()\n",
    "gradeSeason = dataSet[\"GradeSeason\"].unique()\n",
    "\n",
    "gradeSeason = np.delete(gradeSeason, gradeSeason.shape[0]-1).tolist()\n",
    "types = np.delete(types, types.shape[0]-1).tolist()\n",
    "grades = np.delete(grades, grades.shape[0]-1).tolist()\n",
    "boroughs = np.delete(boroughs, boroughs.shape[0]-1).tolist()\n",
    "one_item={}\n",
    "one_item[\"Type\"] = types\n",
    "one_item[\"Borough\"] = boroughs\n",
    "one_item[\"Grade\"] = grades\n",
    "one_item[\"GradeSeason\"] = gradeSeason\n",
    "\n",
    "get_L1(dataSet, one_item)\n",
    "print (one_item)"
   ]
  },
  {
   "cell_type": "code",
   "execution_count": null,
   "metadata": {},
   "outputs": [],
   "source": []
  },
  {
   "cell_type": "code",
   "execution_count": null,
   "metadata": {},
   "outputs": [],
   "source": []
  }
 ],
 "metadata": {
  "kernelspec": {
   "display_name": "Python 2",
   "language": "python",
   "name": "python2"
  },
  "language_info": {
   "codemirror_mode": {
    "name": "ipython",
    "version": 2
   },
   "file_extension": ".py",
   "mimetype": "text/x-python",
   "name": "python",
   "nbconvert_exporter": "python",
   "pygments_lexer": "ipython2",
   "version": "2.7.14"
  }
 },
 "nbformat": 4,
 "nbformat_minor": 2
}
