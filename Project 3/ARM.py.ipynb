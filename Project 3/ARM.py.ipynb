{
 "cells": [
  {
   "cell_type": "code",
   "execution_count": 246,
   "metadata": {},
   "outputs": [],
   "source": [
    "import csv\n",
    "import sys\n",
    "import pandas as pd\n",
    "import numpy as np\n",
    "from operator import itemgetter\n",
    "dataPath = \"./INTEGRATED-DATASET.csv\"\n",
    "\n",
    "\n",
    "\n",
    "dataSet = pd.read_csv(dataPath)\n",
    "dataSet.columns = [\"Name\", \"Borough\", \"Type\", \"InspectionSeason\", \"Reason\", \"Critical\", \"Score\", \"Grade\", \"GradeSeason\"]\n",
    "dataSet\n",
    "min_supp = 0*len(dataSet)\n",
    "min_conf = 0.1*len(dataSet)\n",
    "\n"
   ]
  },
  {
   "cell_type": "code",
   "execution_count": 263,
   "metadata": {},
   "outputs": [],
   "source": [
    "def get_Lk(one_item_set):\n",
    "    Union_Lk = []\n",
    "    Union_Lk.append(one_item_set)\n",
    "    k=1\n",
    "    while len(Union_Lk[-1])!=0 and k==0:\n",
    "        Ck = apriori_gen(Union_Lk[-1], k)\n",
    "        print (Ck)\n",
    "#         Ck.sort()\n",
    "#         Union_Lk.append([])\n",
    "        k=k+1\n",
    "\n",
    "        \n",
    "def apriori_gen(Lk_minus1, k):\n",
    "    Ck = []\n",
    "    for i in xrange(0, len(Lk_minus1)):\n",
    "        for j in xrange(i+1, len(Lk_minus1)):\n",
    "            if check_match(Lk_minus1[i], Lk_minus1[j]):\n",
    "                new_item_set = Lk_minus1[i][:-1]\n",
    "                if len(Lk_minus1[i])==1:\n",
    "                    new_item_set = Lk_minus1[i][:]\n",
    "                new_item_set.append(Lk_minus1[j][-1])\n",
    "                if k==1 or check_subset(Lk_minus1, new_item_set):\n",
    "                    Ck.append(new_item_set)\n",
    "    sort(Ck)                \n",
    "    return Ck                \n",
    "def check_subset(Lk_minus1, new_item_set):\n",
    "    for i in xrange(new_item_set):\n",
    "        subset = copy.deepcopy(new_item_set)\n",
    "        del subset[i]\n",
    "        if subset[i] not in Lk_minus1:\n",
    "            return False\n",
    "    return True\n",
    "            \n",
    "            \n",
    "        \n",
    "def check_match(set1, set2):\n",
    "    for i in xrange(len(set1)-1):\n",
    "        \n",
    "        if set1[i]!=set2[i]: return False\n",
    "    if set1[-1][0]==set2[-1][0]: \n",
    "#         print set1[-1]+set2[-1]\n",
    "        return False\n",
    "    if set1[-1][0]!=set2[-1][0] and set1[-1][1]!=set2[-1][1]: return True "
   ]
  },
  {
   "cell_type": "code",
   "execution_count": 264,
   "metadata": {},
   "outputs": [
    {
     "name": "stdout",
     "output_type": "stream",
     "text": [
      "[[('Borough', 'BRONX')], [('Borough', 'BROOKLYN')], [('Borough', 'MANHATTAN')], [('Borough', 'QUEENS')], [('Borough', 'STATEN ISLAND')], [('Grade', 'A')], [('Grade', 'B')], [('Grade', 'C')], [('Grade', 'P')], [('Grade', 'Z')], [('GradeSeason', 'Spring-GRADE DATE')], [('GradeSeason', 'Summer-GRADE DATE')], [('GradeSeason', 'Winter-GRADE DATE')], [('Type', 'African')], [('Type', 'Asian')], [('Type', 'European')], [('Type', 'NorthAmerican')], [('Type', 'Other')], [('Type', 'SouthAmerican')]]\n"
     ]
    }
   ],
   "source": [
    "def get_L1(dataSet, one_item):\n",
    "    for item in one_item:\n",
    "        cntType = dataSet.groupby(item).count()\n",
    "        one_item[item] = [x for x in one_item[item] if cntType.at[x, 'Name'] >= min_supp]\n",
    "\n",
    "def init_one_item_set(one_item, one_item_set):\n",
    "    for key in one_item:\n",
    "        for val in one_item[key]:\n",
    "            new_item_set = []\n",
    "            new_item_set.append((key, val))\n",
    "            one_item_set.append(new_item_set)\n",
    "\n",
    "boroughs = dataSet[\"Borough\"].unique()\n",
    "grades = dataSet[\"Grade\"].unique()\n",
    "types = dataSet[\"Type\"].unique()\n",
    "gradeSeason = dataSet[\"GradeSeason\"].unique()\n",
    "\n",
    "gradeSeason = np.delete(gradeSeason, gradeSeason.shape[0]-1).tolist()\n",
    "types = np.delete(types, types.shape[0]-1).tolist()\n",
    "grades = np.delete(grades, grades.shape[0]-1).tolist()\n",
    "boroughs = np.delete(boroughs, boroughs.shape[0]-1).tolist()\n",
    "\n",
    "one_item={}\n",
    "one_item[\"Type\"] = types\n",
    "one_item[\"Borough\"] = boroughs\n",
    "one_item[\"Grade\"] = grades\n",
    "one_item[\"GradeSeason\"] = gradeSeason\n",
    "get_L1(dataSet, one_item)\n",
    "\n",
    "one_item_set = []\n",
    "init_one_item_set(one_item, one_item_set)\n",
    "\n",
    "one_item_set = sorted(one_item_set, key=lambda x: (x[0],x[0][1]))\n",
    "print(one_item_set)\n"
   ]
  },
  {
   "cell_type": "code",
   "execution_count": 265,
   "metadata": {},
   "outputs": [
    {
     "name": "stdout",
     "output_type": "stream",
     "text": [
      "[[('Borough', 'BRONX'), ('Grade', 'A')], [('Borough', 'BRONX'), ('Grade', 'B')], [('Borough', 'BRONX'), ('Grade', 'C')], [('Borough', 'BRONX'), ('Grade', 'P')], [('Borough', 'BRONX'), ('Grade', 'Z')], [('Borough', 'BRONX'), ('GradeSeason', 'Spring-GRADE DATE')], [('Borough', 'BRONX'), ('GradeSeason', 'Summer-GRADE DATE')], [('Borough', 'BRONX'), ('GradeSeason', 'Winter-GRADE DATE')], [('Borough', 'BRONX'), ('Type', 'African')], [('Borough', 'BRONX'), ('Type', 'Asian')], [('Borough', 'BRONX'), ('Type', 'European')], [('Borough', 'BRONX'), ('Type', 'NorthAmerican')], [('Borough', 'BRONX'), ('Type', 'Other')], [('Borough', 'BRONX'), ('Type', 'SouthAmerican')], [('Borough', 'BROOKLYN'), ('Grade', 'A')], [('Borough', 'BROOKLYN'), ('Grade', 'B')], [('Borough', 'BROOKLYN'), ('Grade', 'C')], [('Borough', 'BROOKLYN'), ('Grade', 'P')], [('Borough', 'BROOKLYN'), ('Grade', 'Z')], [('Borough', 'BROOKLYN'), ('GradeSeason', 'Spring-GRADE DATE')], [('Borough', 'BROOKLYN'), ('GradeSeason', 'Summer-GRADE DATE')], [('Borough', 'BROOKLYN'), ('GradeSeason', 'Winter-GRADE DATE')], [('Borough', 'BROOKLYN'), ('Type', 'African')], [('Borough', 'BROOKLYN'), ('Type', 'Asian')], [('Borough', 'BROOKLYN'), ('Type', 'European')], [('Borough', 'BROOKLYN'), ('Type', 'NorthAmerican')], [('Borough', 'BROOKLYN'), ('Type', 'Other')], [('Borough', 'BROOKLYN'), ('Type', 'SouthAmerican')], [('Borough', 'MANHATTAN'), ('Grade', 'A')], [('Borough', 'MANHATTAN'), ('Grade', 'B')], [('Borough', 'MANHATTAN'), ('Grade', 'C')], [('Borough', 'MANHATTAN'), ('Grade', 'P')], [('Borough', 'MANHATTAN'), ('Grade', 'Z')], [('Borough', 'MANHATTAN'), ('GradeSeason', 'Spring-GRADE DATE')], [('Borough', 'MANHATTAN'), ('GradeSeason', 'Summer-GRADE DATE')], [('Borough', 'MANHATTAN'), ('GradeSeason', 'Winter-GRADE DATE')], [('Borough', 'MANHATTAN'), ('Type', 'African')], [('Borough', 'MANHATTAN'), ('Type', 'Asian')], [('Borough', 'MANHATTAN'), ('Type', 'European')], [('Borough', 'MANHATTAN'), ('Type', 'NorthAmerican')], [('Borough', 'MANHATTAN'), ('Type', 'Other')], [('Borough', 'MANHATTAN'), ('Type', 'SouthAmerican')], [('Borough', 'QUEENS'), ('Grade', 'A')], [('Borough', 'QUEENS'), ('Grade', 'B')], [('Borough', 'QUEENS'), ('Grade', 'C')], [('Borough', 'QUEENS'), ('Grade', 'P')], [('Borough', 'QUEENS'), ('Grade', 'Z')], [('Borough', 'QUEENS'), ('GradeSeason', 'Spring-GRADE DATE')], [('Borough', 'QUEENS'), ('GradeSeason', 'Summer-GRADE DATE')], [('Borough', 'QUEENS'), ('GradeSeason', 'Winter-GRADE DATE')], [('Borough', 'QUEENS'), ('Type', 'African')], [('Borough', 'QUEENS'), ('Type', 'Asian')], [('Borough', 'QUEENS'), ('Type', 'European')], [('Borough', 'QUEENS'), ('Type', 'NorthAmerican')], [('Borough', 'QUEENS'), ('Type', 'Other')], [('Borough', 'QUEENS'), ('Type', 'SouthAmerican')], [('Borough', 'STATEN ISLAND'), ('Grade', 'A')], [('Borough', 'STATEN ISLAND'), ('Grade', 'B')], [('Borough', 'STATEN ISLAND'), ('Grade', 'C')], [('Borough', 'STATEN ISLAND'), ('Grade', 'P')], [('Borough', 'STATEN ISLAND'), ('Grade', 'Z')], [('Borough', 'STATEN ISLAND'), ('GradeSeason', 'Spring-GRADE DATE')], [('Borough', 'STATEN ISLAND'), ('GradeSeason', 'Summer-GRADE DATE')], [('Borough', 'STATEN ISLAND'), ('GradeSeason', 'Winter-GRADE DATE')], [('Borough', 'STATEN ISLAND'), ('Type', 'African')], [('Borough', 'STATEN ISLAND'), ('Type', 'Asian')], [('Borough', 'STATEN ISLAND'), ('Type', 'European')], [('Borough', 'STATEN ISLAND'), ('Type', 'NorthAmerican')], [('Borough', 'STATEN ISLAND'), ('Type', 'Other')], [('Borough', 'STATEN ISLAND'), ('Type', 'SouthAmerican')], [('Grade', 'A'), ('GradeSeason', 'Spring-GRADE DATE')], [('Grade', 'A'), ('GradeSeason', 'Summer-GRADE DATE')], [('Grade', 'A'), ('GradeSeason', 'Winter-GRADE DATE')], [('Grade', 'A'), ('Type', 'African')], [('Grade', 'A'), ('Type', 'Asian')], [('Grade', 'A'), ('Type', 'European')], [('Grade', 'A'), ('Type', 'NorthAmerican')], [('Grade', 'A'), ('Type', 'Other')], [('Grade', 'A'), ('Type', 'SouthAmerican')], [('Grade', 'B'), ('GradeSeason', 'Spring-GRADE DATE')], [('Grade', 'B'), ('GradeSeason', 'Summer-GRADE DATE')], [('Grade', 'B'), ('GradeSeason', 'Winter-GRADE DATE')], [('Grade', 'B'), ('Type', 'African')], [('Grade', 'B'), ('Type', 'Asian')], [('Grade', 'B'), ('Type', 'European')], [('Grade', 'B'), ('Type', 'NorthAmerican')], [('Grade', 'B'), ('Type', 'Other')], [('Grade', 'B'), ('Type', 'SouthAmerican')], [('Grade', 'C'), ('GradeSeason', 'Spring-GRADE DATE')], [('Grade', 'C'), ('GradeSeason', 'Summer-GRADE DATE')], [('Grade', 'C'), ('GradeSeason', 'Winter-GRADE DATE')], [('Grade', 'C'), ('Type', 'African')], [('Grade', 'C'), ('Type', 'Asian')], [('Grade', 'C'), ('Type', 'European')], [('Grade', 'C'), ('Type', 'NorthAmerican')], [('Grade', 'C'), ('Type', 'Other')], [('Grade', 'C'), ('Type', 'SouthAmerican')], [('Grade', 'P'), ('GradeSeason', 'Spring-GRADE DATE')], [('Grade', 'P'), ('GradeSeason', 'Summer-GRADE DATE')], [('Grade', 'P'), ('GradeSeason', 'Winter-GRADE DATE')], [('Grade', 'P'), ('Type', 'African')], [('Grade', 'P'), ('Type', 'Asian')], [('Grade', 'P'), ('Type', 'European')], [('Grade', 'P'), ('Type', 'NorthAmerican')], [('Grade', 'P'), ('Type', 'Other')], [('Grade', 'P'), ('Type', 'SouthAmerican')], [('Grade', 'Z'), ('GradeSeason', 'Spring-GRADE DATE')], [('Grade', 'Z'), ('GradeSeason', 'Summer-GRADE DATE')], [('Grade', 'Z'), ('GradeSeason', 'Winter-GRADE DATE')], [('Grade', 'Z'), ('Type', 'African')], [('Grade', 'Z'), ('Type', 'Asian')], [('Grade', 'Z'), ('Type', 'European')], [('Grade', 'Z'), ('Type', 'NorthAmerican')], [('Grade', 'Z'), ('Type', 'Other')], [('Grade', 'Z'), ('Type', 'SouthAmerican')], [('GradeSeason', 'Spring-GRADE DATE'), ('Type', 'African')], [('GradeSeason', 'Spring-GRADE DATE'), ('Type', 'Asian')], [('GradeSeason', 'Spring-GRADE DATE'), ('Type', 'European')], [('GradeSeason', 'Spring-GRADE DATE'), ('Type', 'NorthAmerican')], [('GradeSeason', 'Spring-GRADE DATE'), ('Type', 'Other')], [('GradeSeason', 'Spring-GRADE DATE'), ('Type', 'SouthAmerican')], [('GradeSeason', 'Summer-GRADE DATE'), ('Type', 'African')], [('GradeSeason', 'Summer-GRADE DATE'), ('Type', 'Asian')], [('GradeSeason', 'Summer-GRADE DATE'), ('Type', 'European')], [('GradeSeason', 'Summer-GRADE DATE'), ('Type', 'NorthAmerican')], [('GradeSeason', 'Summer-GRADE DATE'), ('Type', 'Other')], [('GradeSeason', 'Summer-GRADE DATE'), ('Type', 'SouthAmerican')], [('GradeSeason', 'Winter-GRADE DATE'), ('Type', 'African')], [('GradeSeason', 'Winter-GRADE DATE'), ('Type', 'Asian')], [('GradeSeason', 'Winter-GRADE DATE'), ('Type', 'European')], [('GradeSeason', 'Winter-GRADE DATE'), ('Type', 'NorthAmerican')], [('GradeSeason', 'Winter-GRADE DATE'), ('Type', 'Other')], [('GradeSeason', 'Winter-GRADE DATE'), ('Type', 'SouthAmerican')]]\n"
     ]
    }
   ],
   "source": [
    "get_Lk(one_item_set)"
   ]
  },
  {
   "cell_type": "code",
   "execution_count": null,
   "metadata": {},
   "outputs": [],
   "source": []
  },
  {
   "cell_type": "code",
   "execution_count": null,
   "metadata": {},
   "outputs": [],
   "source": []
  }
 ],
 "metadata": {
  "kernelspec": {
   "display_name": "Python 2",
   "language": "python",
   "name": "python2"
  },
  "language_info": {
   "codemirror_mode": {
    "name": "ipython",
    "version": 2
   },
   "file_extension": ".py",
   "mimetype": "text/x-python",
   "name": "python",
   "nbconvert_exporter": "python",
   "pygments_lexer": "ipython2",
   "version": "2.7.14"
  }
 },
 "nbformat": 4,
 "nbformat_minor": 2
}
