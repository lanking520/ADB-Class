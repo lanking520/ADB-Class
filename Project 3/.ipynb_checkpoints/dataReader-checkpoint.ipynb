{
 "cells": [
  {
   "cell_type": "code",
   "execution_count": 1,
   "metadata": {},
   "outputs": [
    {
     "ename": "ImportError",
     "evalue": "No module named pandas",
     "output_type": "error",
     "traceback": [
      "\u001b[0;31m---------------------------------------------------------------------------\u001b[0m",
      "\u001b[0;31mImportError\u001b[0m                               Traceback (most recent call last)",
      "\u001b[0;32m<ipython-input-1-7dd3504c366f>\u001b[0m in \u001b[0;36m<module>\u001b[0;34m()\u001b[0m\n\u001b[0;32m----> 1\u001b[0;31m \u001b[0;32mimport\u001b[0m \u001b[0mpandas\u001b[0m \u001b[0;32mas\u001b[0m \u001b[0mpd\u001b[0m\u001b[0;34m\u001b[0m\u001b[0m\n\u001b[0m",
      "\u001b[0;31mImportError\u001b[0m: No module named pandas"
     ]
    }
   ],
   "source": [
    "import pandas as pd"
   ]
  },
  {
   "cell_type": "code",
   "execution_count": 3,
   "metadata": {
    "collapsed": true
   },
   "outputs": [],
   "source": [
    "my_file = pd.read_csv(\"dataset/Boro_Restaurant_Grades.csv\", encoding = 'utf8')"
   ]
  },
  {
   "cell_type": "code",
   "execution_count": 6,
   "metadata": {},
   "outputs": [
    {
     "data": {
      "text/plain": [
       "array(['Pizza', 'American', 'Caf\\xc3\\x83\\xc2\\xa9/Coffee/Tea', 'Hamburgers',\n",
       "       'Indian', 'Japanese', 'Jewish/Kosher',\n",
       "       'Sandwiches/Salads/Mixed Buffet', 'Spanish', 'Caribbean',\n",
       "       'Eastern European',\n",
       "       'Latin (Cuban, Dominican, Puerto Rican, South & Central American)',\n",
       "       'Mediterranean', 'Seafood', 'Greek', 'Pizza/Italian', 'Irish',\n",
       "       'Sandwiches', 'Korean', 'Other', 'Asian', 'Bakery', 'Italian',\n",
       "       'Steak', 'Mexican', 'Tapas', 'Donuts', 'African', 'Creole',\n",
       "       'Juice, Smoothies, Fruit Salads', 'Chinese', 'Chicken', 'Thai',\n",
       "       'Afghan', 'Soul Food', 'Bagels/Pretzels', 'Middle Eastern',\n",
       "       'Fruits/Vegetables', 'Filipino', 'Pakistani',\n",
       "       'Bottled beverages, including water, sodas, juices, etc.',\n",
       "       'Tex-Mex', 'Peruvian', 'Delicatessen',\n",
       "       'Vietnamese/Cambodian/Malaysia', 'Salads', 'Russian', 'French',\n",
       "       'Polish', 'Continental', 'Turkish', 'Vegetarian',\n",
       "       'Ice Cream, Gelato, Yogurt, Ices', 'Hotdogs', 'Hawaiian',\n",
       "       'Barbecue', 'Bangladeshi', 'Scandinavian', 'Brazilian',\n",
       "       'Creole/Cajun', 'Armenian', 'Soups & Sandwiches', 'Ethiopian',\n",
       "       'Hotdogs/Pretzels', 'Nuts/Confectionary', 'English', 'Polynesian',\n",
       "       'Pancakes/Waffles', 'Basque', 'Portuguese', 'German',\n",
       "       'Chinese/Japanese', 'Czech', 'Chilean', 'Californian', 'Egyptian',\n",
       "       'Moroccan', 'Indonesian', 'Australian', 'Chinese/Cuban', 'Iranian',\n",
       "       'Southwestern', 'Not Listed/Not Applicable', 'Cajun', 'Soups'], dtype=object)"
      ]
     },
     "execution_count": 6,
     "metadata": {},
     "output_type": "execute_result"
    }
   ],
   "source": [
    "my_file['CUISINE DESCRIPTION'].unique()"
   ]
  },
  {
   "cell_type": "code",
   "execution_count": null,
   "metadata": {
    "collapsed": true
   },
   "outputs": [],
   "source": [
    "my_file"
   ]
  }
 ],
 "metadata": {
  "kernelspec": {
   "display_name": "Python 2",
   "language": "python",
   "name": "python2"
  },
  "language_info": {
   "codemirror_mode": {
    "name": "ipython",
    "version": 2
   },
   "file_extension": ".py",
   "mimetype": "text/x-python",
   "name": "python",
   "nbconvert_exporter": "python",
   "pygments_lexer": "ipython2",
   "version": "2.7.14"
  }
 },
 "nbformat": 4,
 "nbformat_minor": 2
}
